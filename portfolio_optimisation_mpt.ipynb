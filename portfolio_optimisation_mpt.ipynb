{
 "cells": [
  {
   "cell_type": "markdown",
   "id": "87e739f7",
   "metadata": {},
   "source": [
    "# Portfolio Optimisation with Modern Portfolio Theory"
   ]
  },
  {
   "cell_type": "code",
   "execution_count": null,
   "id": "f70862e5",
   "metadata": {},
   "outputs": [],
   "source": [
    "\n",
    "import numpy as np\n",
    "import pandas as pd\n",
    "import yfinance as yf\n",
    "import matplotlib.pyplot as plt\n",
    "from scipy.optimize import minimize\n"
   ]
  },
  {
   "cell_type": "code",
   "execution_count": null,
   "id": "4a02fbe8",
   "metadata": {},
   "outputs": [],
   "source": [
    "\n",
    "# Download historical data for a few ETFs\n",
    "tickers = ['AAPL', 'MSFT', 'GOOGL', 'TSLA', 'AMZN']\n",
    "data = yf.download(tickers, start='2019-01-01', end='2023-01-01')['Adj Close']\n",
    "returns = data.pct_change().dropna()\n",
    "mean_returns = returns.mean()\n",
    "cov_matrix = returns.cov()\n"
   ]
  },
  {
   "cell_type": "code",
   "execution_count": null,
   "id": "cdb85dc7",
   "metadata": {},
   "outputs": [],
   "source": [
    "\n",
    "# Portfolio performance functions\n",
    "def portfolio_performance(weights, mean_returns, cov_matrix):\n",
    "    returns = np.dot(weights, mean_returns)\n",
    "    std = np.sqrt(np.dot(weights.T, np.dot(cov_matrix, weights)))\n",
    "    return returns, std\n",
    "\n",
    "def negative_sharpe_ratio(weights, mean_returns, cov_matrix, risk_free_rate=0.01):\n",
    "    p_return, p_std = portfolio_performance(weights, mean_returns, cov_matrix)\n",
    "    return - (p_return - risk_free_rate) / p_std\n"
   ]
  },
  {
   "cell_type": "code",
   "execution_count": null,
   "id": "c8c438bb",
   "metadata": {},
   "outputs": [],
   "source": [
    "\n",
    "# Optimise for maximum Sharpe ratio\n",
    "num_assets = len(tickers)\n",
    "initial_guess = num_assets * [1. / num_assets]\n",
    "bounds = tuple((0, 1) for _ in range(num_assets))\n",
    "constraints = {'type': 'eq', 'fun': lambda x: np.sum(x) - 1}\n",
    "\n",
    "opt_result = minimize(negative_sharpe_ratio, initial_guess,\n",
    "                      args=(mean_returns, cov_matrix),\n",
    "                      method='SLSQP', bounds=bounds, constraints=constraints)\n",
    "\n",
    "opt_weights = opt_result.x\n"
   ]
  },
  {
   "cell_type": "code",
   "execution_count": null,
   "id": "164a6f12",
   "metadata": {},
   "outputs": [],
   "source": [
    "\n",
    "# Calculate efficient frontier\n",
    "def efficient_frontier(mean_returns, cov_matrix, num_points=100):\n",
    "    results = {'Returns': [], 'Volatility': []}\n",
    "    for r in np.linspace(0.05, 0.5, num_points):\n",
    "        constraints = (\n",
    "            {'type': 'eq', 'fun': lambda x: np.sum(x) - 1},\n",
    "            {'type': 'eq', 'fun': lambda x: np.dot(x, mean_returns) - r}\n",
    "        )\n",
    "        res = minimize(lambda x: np.sqrt(np.dot(x.T, np.dot(cov_matrix, x))),\n",
    "                       initial_guess, method='SLSQP', bounds=bounds, constraints=constraints)\n",
    "        if res.success:\n",
    "            results['Returns'].append(r)\n",
    "            results['Volatility'].append(res.fun)\n",
    "    return results\n",
    "\n",
    "frontier = efficient_frontier(mean_returns, cov_matrix)\n"
   ]
  },
  {
   "cell_type": "code",
   "execution_count": null,
   "id": "54eeaf9e",
   "metadata": {},
   "outputs": [],
   "source": [
    "\n",
    "# Plot efficient frontier\n",
    "plt.figure(figsize=(10, 6))\n",
    "plt.plot(frontier['Volatility'], frontier['Returns'], 'b--', label='Efficient Frontier')\n",
    "opt_return, opt_std = portfolio_performance(opt_weights, mean_returns, cov_matrix)\n",
    "plt.scatter(opt_std, opt_return, color='red', label='Max Sharpe Ratio')\n",
    "plt.title('Efficient Frontier with Optimal Portfolio')\n",
    "plt.xlabel('Volatility (Standard Deviation)')\n",
    "plt.ylabel('Expected Return')\n",
    "plt.legend()\n",
    "plt.grid(True)\n",
    "plt.show()\n"
   ]
  },
  {
   "cell_type": "code",
   "execution_count": null,
   "id": "37517617",
   "metadata": {},
   "outputs": [],
   "source": [
    "\n",
    "# Show optimal weights\n",
    "opt_df = pd.DataFrame({'Ticker': tickers, 'Optimal Weight': opt_weights})\n",
    "opt_df\n"
   ]
  }
 ],
 "metadata": {},
 "nbformat": 4,
 "nbformat_minor": 5
}
